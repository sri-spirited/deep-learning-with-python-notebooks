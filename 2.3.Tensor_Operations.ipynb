{
  "nbformat": 4,
  "nbformat_minor": 0,
  "metadata": {
    "colab": {
      "name": "Untitled0.ipynb",
      "provenance": [],
      "authorship_tag": "ABX9TyNhIzLYxezqd6W6ds/BDWPo",
      "include_colab_link": true
    },
    "kernelspec": {
      "name": "python3",
      "display_name": "Python 3"
    }
  },
  "cells": [
    {
      "cell_type": "markdown",
      "metadata": {
        "id": "view-in-github",
        "colab_type": "text"
      },
      "source": [
        "<a href=\"https://colab.research.google.com/github/sri-spirited/fchollet-book-deep-learning-with-python-notebooks/blob/master/2.3.Tensor_Operations.ipynb\" target=\"_parent\"><img src=\"https://colab.research.google.com/assets/colab-badge.svg\" alt=\"Open In Colab\"/></a>"
      ]
    },
    {
      "cell_type": "markdown",
      "metadata": {
        "id": "s5ja4UDEBxYt",
        "colab_type": "text"
      },
      "source": [
        "# Element-wise operations\n",
        "\n",
        "## `relu` operation\n",
        "The `relu` operation is an _element-wise_ operation, i.e. applied independently to each entry in the tensor. It is therefore amenable to massively parallel (_vectorized_) implementations\n",
        "\n",
        "### Naive implementation of an element-wise relu operation:"
      ]
    },
    {
      "cell_type": "code",
      "metadata": {
        "id": "r9JDBjSOCZeP",
        "colab_type": "code",
        "colab": {}
      },
      "source": [
        "import numpy as np\n",
        "def naive_relu(x):\n",
        "  #First check that it is a 2-D tensor\n",
        "  assert len(x.shape)==2\n",
        "\n",
        "  x = x.copy()#Avoid overwriting the inut \n",
        "  for i in range(x.shape[0]):\n",
        "    for j in range(x.shape[1]):\n",
        "      x[i,j] = max(x[i,j], 0)\n",
        "  return x"
      ],
      "execution_count": 10,
      "outputs": []
    },
    {
      "cell_type": "markdown",
      "metadata": {
        "id": "Gp7hJm8vDXlc",
        "colab_type": "text"
      },
      "source": [
        "Let's check the `naive_relu` function on x."
      ]
    },
    {
      "cell_type": "code",
      "metadata": {
        "id": "8kvCi_6uDCbn",
        "colab_type": "code",
        "colab": {
          "base_uri": "https://localhost:8080/",
          "height": 34
        },
        "outputId": "e90bcf0b-034d-4fb1-a330-51a97b922ab0"
      },
      "source": [
        "x = np.array([[5, -78, 2, 34, 0],\n",
        "              [6, 79, 3, -35, 1],\n",
        "              [7, 80, 4, 36, 2]])\n",
        "x.ndim"
      ],
      "execution_count": 11,
      "outputs": [
        {
          "output_type": "execute_result",
          "data": {
            "text/plain": [
              "2"
            ]
          },
          "metadata": {
            "tags": []
          },
          "execution_count": 11
        }
      ]
    },
    {
      "cell_type": "code",
      "metadata": {
        "id": "IJamA4FyDa_3",
        "colab_type": "code",
        "colab": {
          "base_uri": "https://localhost:8080/",
          "height": 67
        },
        "outputId": "b6aab41b-5e14-4cf8-abdd-17b35070690d"
      },
      "source": [
        "naive_relu(x)"
      ],
      "execution_count": 12,
      "outputs": [
        {
          "output_type": "execute_result",
          "data": {
            "text/plain": [
              "array([[ 5,  0,  2, 34,  0],\n",
              "       [ 6, 79,  3,  0,  1],\n",
              "       [ 7, 80,  4, 36,  2]])"
            ]
          },
          "metadata": {
            "tags": []
          },
          "execution_count": 12
        }
      ]
    },
    {
      "cell_type": "markdown",
      "metadata": {
        "id": "nWcT08W3DR3A",
        "colab_type": "text"
      },
      "source": [
        "We see that the negative elements have been replaced by 0"
      ]
    },
    {
      "cell_type": "markdown",
      "metadata": {
        "id": "FobiPgMRC_rC",
        "colab_type": "text"
      },
      "source": [
        "### Naive implementation of addition operation"
      ]
    },
    {
      "cell_type": "code",
      "metadata": {
        "id": "pmgj0yl6FGOY",
        "colab_type": "code",
        "colab": {}
      },
      "source": [
        "def naive_add(x, y):\n",
        "  assert len(x.shape)==2\n",
        "  assert x.shape==y.shape\n",
        "\n",
        "  x = x.copy()\n",
        "  for i in range(x.shape[0]):\n",
        "    for j in range(x.shape[1]):\n",
        "      x[i, j] += y[i, j]\n",
        "  return x"
      ],
      "execution_count": 14,
      "outputs": []
    },
    {
      "cell_type": "code",
      "metadata": {
        "id": "IRkpZWKZFgGB",
        "colab_type": "code",
        "colab": {
          "base_uri": "https://localhost:8080/",
          "height": 185
        },
        "outputId": "0e32ed75-2151-4b3b-b41d-ad7c89ec8b96"
      },
      "source": [
        "x = np.array([[5, -78, 2, 34, 0],\n",
        "              [6, 79, 3, -35, 1],\n",
        "              [7, 80, 4, 36, 2]])\n",
        "y = np.ones(shape=(3,5))\n",
        "print(x, \"\\n\", y, \"\\n\", \"x+y: \\n\", naive_add(x,y))"
      ],
      "execution_count": 16,
      "outputs": [
        {
          "output_type": "stream",
          "text": [
            "[[  5 -78   2  34   0]\n",
            " [  6  79   3 -35   1]\n",
            " [  7  80   4  36   2]] \n",
            " [[1. 1. 1. 1. 1.]\n",
            " [1. 1. 1. 1. 1.]\n",
            " [1. 1. 1. 1. 1.]] \n",
            " x+y: \n",
            " [[  6 -77   3  35   1]\n",
            " [  7  80   4 -34   2]\n",
            " [  8  81   5  37   3]]\n"
          ],
          "name": "stdout"
        }
      ]
    },
    {
      "cell_type": "markdown",
      "metadata": {
        "id": "l8HBsvpLFLL9",
        "colab_type": "text"
      },
      "source": [
        "### `relu`in `numpy`"
      ]
    },
    {
      "cell_type": "code",
      "metadata": {
        "id": "KxaM1C3fF_Uo",
        "colab_type": "code",
        "colab": {
          "base_uri": "https://localhost:8080/",
          "height": 70
        },
        "outputId": "f929a680-ab81-4991-9431-939a8a5929b5"
      },
      "source": [
        "x = np.array([[5, -78, 2, 34, 0],\n",
        "              [6, 79, 3, -35, 1],\n",
        "              [7, 80, 4, 36, 2]])\n",
        "\n",
        "np.maximum(x, np.zeros(shape = x.shape))"
      ],
      "execution_count": 24,
      "outputs": [
        {
          "output_type": "execute_result",
          "data": {
            "text/plain": [
              "array([[ 5.,  0.,  2., 34.,  0.],\n",
              "       [ 6., 79.,  3.,  0.,  1.],\n",
              "       [ 7., 80.,  4., 36.,  2.]])"
            ]
          },
          "metadata": {
            "tags": []
          },
          "execution_count": 24
        }
      ]
    },
    {
      "cell_type": "markdown",
      "metadata": {
        "id": "PSEy-br_GX2A",
        "colab_type": "text"
      },
      "source": [
        "## Tensor broadcasting\n",
        "What happens with addition when the shapes of the two tensors\n",
        "being added differ?\n",
        "\n",
        "When possible, and if there’s no ambiguity, the smaller tensor will be broadcasted to match the shape of the larger tensor. Broadcasting consists of two steps:\n",
        "1. Axes (called broadcast axes) are added to the smaller tensor to match the ndim of the larger tensor.\n",
        "2. The smaller tensor is repeated alongside these new axes to match the full shape of the larger tensor."
      ]
    },
    {
      "cell_type": "code",
      "metadata": {
        "id": "XXTw-9C3JMMs",
        "colab_type": "code",
        "colab": {}
      },
      "source": [
        "def naive_add_matrix_and_vector(x, y):\n",
        "  assert len(x.shape)==2\n",
        "  assert len(y.shape)==1\n",
        "  assert x.shape[1]==y.shape[0]\n",
        "  \n",
        "  x = x.copy()\n",
        "  for i in range(x.shape[0]):\n",
        "    for j in range(x.shape[1]):\n",
        "      x[i, j] += y[j]\n",
        "  return x"
      ],
      "execution_count": 25,
      "outputs": []
    },
    {
      "cell_type": "code",
      "metadata": {
        "id": "cC9MMd1drmA8",
        "colab_type": "code",
        "colab": {
          "base_uri": "https://localhost:8080/",
          "height": 70
        },
        "outputId": "f90baf97-c4ba-4ac1-d1b8-40f2c199834e"
      },
      "source": [
        "x = np.array([[5, -78, 2, 34, 0],\n",
        "              [6, 79, 3, -35, 1],\n",
        "              [7, 80, 4, 36, 2]])\n",
        "y = np.ones(shape=(x.shape[1],))\n",
        "naive_add_matrix_and_vector(x, y)"
      ],
      "execution_count": 26,
      "outputs": [
        {
          "output_type": "execute_result",
          "data": {
            "text/plain": [
              "array([[  6, -77,   3,  35,   1],\n",
              "       [  7,  80,   4, -34,   2],\n",
              "       [  8,  81,   5,  37,   3]])"
            ]
          },
          "metadata": {
            "tags": []
          },
          "execution_count": 26
        }
      ]
    },
    {
      "cell_type": "markdown",
      "metadata": {
        "id": "HB0cbH6TrxaX",
        "colab_type": "text"
      },
      "source": [
        "## Tensor dot product "
      ]
    },
    {
      "cell_type": "code",
      "metadata": {
        "id": "M0Icgs_9vA7i",
        "colab_type": "code",
        "colab": {
          "base_uri": "https://localhost:8080/",
          "height": 35
        },
        "outputId": "53c344fb-ba6e-446f-d4d9-397df6a17288"
      },
      "source": [
        "import numpy as np\n",
        "np.dot(x, y)"
      ],
      "execution_count": 27,
      "outputs": [
        {
          "output_type": "execute_result",
          "data": {
            "text/plain": [
              "array([-37.,  54., 129.])"
            ]
          },
          "metadata": {
            "tags": []
          },
          "execution_count": 27
        }
      ]
    },
    {
      "cell_type": "markdown",
      "metadata": {
        "id": "8yiGydtzvUKF",
        "colab_type": "text"
      },
      "source": [
        "Let's break down the dot product for vectors"
      ]
    },
    {
      "cell_type": "code",
      "metadata": {
        "id": "ONP-WzMUvD_9",
        "colab_type": "code",
        "colab": {}
      },
      "source": [
        "def naive_vector_dot(x,y):\n",
        "  assert len(x.shape)==1\n",
        "  assert len(y.shape)==1\n",
        "  assert x.shape[0]==y.shape[0]\n",
        "  z=0\n",
        "  for i in range(x.shape[0]):\n",
        "    z += x[i]*y[i]\n",
        "  return z"
      ],
      "execution_count": 29,
      "outputs": []
    },
    {
      "cell_type": "markdown",
      "metadata": {
        "id": "0vJuVXnzv00S",
        "colab_type": "text"
      },
      "source": [
        "Dot product for a matrix and a vector"
      ]
    },
    {
      "cell_type": "code",
      "metadata": {
        "id": "Of0HUdGZv9yF",
        "colab_type": "code",
        "colab": {
          "base_uri": "https://localhost:8080/",
          "height": 408
        },
        "outputId": "d88d0d50-2441-42c2-b815-2ab927df2756"
      },
      "source": [
        "def naive_matrix_vector_dot(x,y):\n",
        "  assert len(x.shape)==2\n",
        "  assert len(y.shape)==1\n",
        "  assert x.shape[1]==y.shape[0]\n",
        "  z = np.zeros(shape=(x.shape[0]))\n",
        "  print(z)\n",
        "  for i in range(x.shape[0]):\n",
        "    print(f\"i={i}\")\n",
        "    for j in range(x.shape[1]):\n",
        "      print(f\"j={j}\")\n",
        "      z[i] += x[i,j]*y[j]\n",
        "  return z\n",
        "x = np.array([[5, -78, 2, 34, 0],\n",
        "              [6, 79, 3, -35, 1],\n",
        "              [7, 80, 4, 36, 2]])\n",
        "print(f\"Shape of x: {x.shape} \\n shape of y: {y.shape}\")\n",
        "y = np.ones(shape=x.shape[1])\n",
        "naive_matrix_vector_dot(x,y)"
      ],
      "execution_count": 39,
      "outputs": [
        {
          "output_type": "stream",
          "text": [
            "Shape of x: (3, 5) \n",
            " shape of y: (5,)\n",
            "[0. 0. 0.]\n",
            "i=0\n",
            "j=0\n",
            "j=1\n",
            "j=2\n",
            "j=3\n",
            "j=4\n",
            "i=1\n",
            "j=0\n",
            "j=1\n",
            "j=2\n",
            "j=3\n",
            "j=4\n",
            "i=2\n",
            "j=0\n",
            "j=1\n",
            "j=2\n",
            "j=3\n",
            "j=4\n"
          ],
          "name": "stdout"
        },
        {
          "output_type": "execute_result",
          "data": {
            "text/plain": [
              "array([-37.,  54., 129.])"
            ]
          },
          "metadata": {
            "tags": []
          },
          "execution_count": 39
        }
      ]
    },
    {
      "cell_type": "code",
      "metadata": {
        "id": "j29khlHdxiHG",
        "colab_type": "code",
        "colab": {
          "base_uri": "https://localhost:8080/",
          "height": 35
        },
        "outputId": "8f75593a-2c2c-44c3-963b-810c027a6875"
      },
      "source": [
        "range(x.shape[0])"
      ],
      "execution_count": 37,
      "outputs": [
        {
          "output_type": "execute_result",
          "data": {
            "text/plain": [
              "range(0, 3)"
            ]
          },
          "metadata": {
            "tags": []
          },
          "execution_count": 37
        }
      ]
    },
    {
      "cell_type": "code",
      "metadata": {
        "id": "YIW2SDyyxc0x",
        "colab_type": "code",
        "colab": {}
      },
      "source": [
        ""
      ],
      "execution_count": null,
      "outputs": []
    }
  ]
}